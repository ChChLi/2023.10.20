{
  "nbformat": 4,
  "nbformat_minor": 0,
  "metadata": {
    "colab": {
      "provenance": []
    },
    "kernelspec": {
      "name": "python3",
      "display_name": "Python 3"
    },
    "language_info": {
      "name": "python"
    }
  },
  "cells": [
    {
      "cell_type": "code",
      "execution_count": 11,
      "metadata": {
        "colab": {
          "base_uri": "https://localhost:8080/"
        },
        "id": "INoSW9Pk_u8v",
        "outputId": "c95f84ef-03ac-4be1-a019-77a3d57f00ea"
      },
      "outputs": [
        {
          "output_type": "stream",
          "name": "stdout",
          "text": [
            "請輸入1到9之間的一個數字7\n",
            "1x1=1\n",
            "1x2=2\n",
            "1x3=3\n",
            "1x4=4\n",
            "1x5=5\n",
            "1x6=6\n",
            "1x7=7\n",
            "1x8=8\n",
            "1x9=9\n",
            "2x1=2\n",
            "2x2=4\n",
            "2x3=6\n",
            "2x4=8\n",
            "2x5=10\n",
            "2x6=12\n",
            "2x7=14\n",
            "2x8=16\n",
            "2x9=18\n",
            "3x1=3\n",
            "3x2=6\n",
            "3x3=9\n",
            "3x4=12\n",
            "3x5=15\n",
            "3x6=18\n",
            "3x7=21\n",
            "3x8=24\n",
            "3x9=27\n",
            "4x1=4\n",
            "4x2=8\n",
            "4x3=12\n",
            "4x4=16\n",
            "4x5=20\n",
            "4x6=24\n",
            "4x7=28\n",
            "4x8=32\n",
            "4x9=36\n",
            "5x1=5\n",
            "5x2=10\n",
            "5x3=15\n",
            "5x4=20\n",
            "5x5=25\n",
            "5x6=30\n",
            "5x7=35\n",
            "5x8=40\n",
            "5x9=45\n",
            "6x1=6\n",
            "6x2=12\n",
            "6x3=18\n",
            "6x4=24\n",
            "6x5=30\n",
            "6x6=36\n",
            "6x7=42\n",
            "6x8=48\n",
            "6x9=54\n",
            "7x1=7\n",
            "7x2=14\n",
            "7x3=21\n",
            "7x4=28\n",
            "7x5=35\n",
            "7x6=42\n",
            "7x7=49\n",
            "7x8=56\n",
            "7x9=63\n"
          ]
        }
      ],
      "source": [
        "i = int (input(\"請輸入1到9之間的一個數字\"))\n",
        "for i in range (1,i+1):\n",
        "  for j in range (1,10):\n",
        "    product = i*j\n",
        "    print(f\"{i}x{j}={product}\")"
      ]
    },
    {
      "cell_type": "code",
      "source": [
        "import random\n",
        "target_number = random.randint(1,100)\n",
        "\n",
        "print(\"來猜數字呀\")\n",
        "ans = 0\n",
        "while ans == 0:\n",
        "  guess = int(input(\"你猜多少啊\"))\n",
        "  if guess > target_number:\n",
        "    print(\"太高囉呵呵\")\n",
        "  elif guess < target_number:\n",
        "    print((\"太低囉呵呵\"))\n",
        "  else:\n",
        "    print(f\"猜對了!答案就是{target_number}\")\n",
        "    ans = 1\n",
        "print(\"遊戲結束~\")\n"
      ],
      "metadata": {
        "colab": {
          "base_uri": "https://localhost:8080/"
        },
        "id": "jIic7gAaJLhG",
        "outputId": "c61540d3-eb93-450a-c379-2e7aa1ae32c6"
      },
      "execution_count": 12,
      "outputs": [
        {
          "output_type": "stream",
          "name": "stdout",
          "text": [
            "來猜數字呀\n",
            "你猜多少啊56\n",
            "太高囉呵呵\n",
            "你猜多少啊45\n",
            "太高囉呵呵\n",
            "你猜多少啊34\n",
            "太高囉呵呵\n",
            "你猜多少啊23\n",
            "太低囉呵呵\n",
            "你猜多少啊26\n",
            "太高囉呵呵\n",
            "你猜多少啊24\n",
            "太低囉呵呵\n",
            "你猜多少啊25\n",
            "猜對了!答案就是25\n",
            "遊戲結束~\n"
          ]
        }
      ]
    }
  ]
}